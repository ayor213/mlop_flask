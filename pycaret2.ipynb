{
  "nbformat": 4,
  "nbformat_minor": 0,
  "metadata": {
    "colab": {
      "provenance": [],
      "authorship_tag": "ABX9TyOX7H1s5acg8NPwRFBIhVZ1",
      "include_colab_link": true
    },
    "kernelspec": {
      "name": "python3",
      "display_name": "Python 3"
    },
    "language_info": {
      "name": "python"
    }
  },
  "cells": [
    {
      "cell_type": "markdown",
      "metadata": {
        "id": "view-in-github",
        "colab_type": "text"
      },
      "source": [
        "<a href=\"https://colab.research.google.com/github/ayor213/mlop_flask/blob/main/pycaret2.ipynb\" target=\"_parent\"><img src=\"https://colab.research.google.com/assets/colab-badge.svg\" alt=\"Open In Colab\"/></a>"
      ]
    },
    {
      "cell_type": "code",
      "execution_count": null,
      "metadata": {
        "id": "mF2EjdM5v6QN"
      },
      "outputs": [],
      "source": [
        "%pip install pycaret"
      ]
    },
    {
      "cell_type": "code",
      "source": [
        "from pandas import *\n",
        "from numpy import *\n",
        "from datetime import datetime\n",
        "from numpy import*\n",
        "from pycaret import*\n",
        "import matplotlib.pyplot as plt\n",
        "import matplotlib.patches as mpatches\n",
        "from matplotlib.backends.backend_tkagg import FigureCanvasTkAgg, NavigationToolbar2Tk\n",
        "from matplotlib.figure import Figure\n",
        "from matplotlib import style\n",
        "import matplotlib.dates as mdates\n",
        "import plotly\n",
        "import cufflinks as cf\n",
        "\n",
        "cf.go_offline\n",
        "\n",
        "# We'll also import seaborn, a Python graphing library\n",
        "import warnings # current version of seaborn generates a bunch of warnings that we'll ignore\n",
        "warnings.filterwarnings(\"ignore\")\n",
        "import seaborn as sns\n",
        "sns.set(color_codes=True)"
      ],
      "metadata": {
        "id": "8DDuDzjTwJv-"
      },
      "execution_count": null,
      "outputs": []
    },
    {
      "cell_type": "code",
      "source": [
        "# load dataset\n",
        "\n",
        "from pycaret.datasets import get_data\n",
        "insurance = get_data('insurance')\n",
        "\n",
        "# init environment\n",
        "from pycaret.regression import *\n",
        "r0 = setup(insurance,\n",
        "           target = 'charges',\n",
        "           session_id = 122,\n",
        "           normalize = True,\n",
        "           polynomial_features = True,\n",
        "           trigonometry_features = True,\n",
        "           feature_interaction=True,\n",
        "           bin_numeric_features= ['age', 'bmi'])\n",
        "#Model training and selection\n",
        "print(\"Model training and selection\")\n",
        "best_lr= compare_models()\n",
        "\n",
        "# Analyse best model\n",
        "print('Analyse best model')\n",
        "evaluate_model(best_lr)\n",
        "\n",
        "# Predictions on new data\n",
        "print(\"Predictions on new data\")\n",
        "predictions = predict_model(best_lr)\n",
        "\n",
        "# save pipeline/model\n",
        "print(\"save pipeline/model\")\n",
        "save_model(best_lr,'MLOps_Pipeline')"
      ],
      "metadata": {
        "id": "H7FQ3F6jwOc6"
      },
      "execution_count": null,
      "outputs": []
    }
  ]
}