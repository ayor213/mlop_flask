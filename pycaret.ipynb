{
 "cells": [
  {
   "cell_type": "code",
   "execution_count": null,
   "metadata": {},
   "outputs": [],
   "source": [
    "# load dataset\n",
    "from pycaret.datasets import get_data\n",
    "insurance = get_data('insurance')\n",
    "\n",
    "# init environment\n",
    "from pycaret.regression import *\n",
    "r0 = setup(insurance,\n",
    "           target = 'charges',\n",
    "           session_id = 122,\n",
    "           normalize = True,\n",
    "           polynomial_features = True,\n",
    "           trigonometry_features = True,\n",
    "           feature_interaction=True,\n",
    "           bin_numeric_features= ['age', 'bmi'])\n",
    "#Model training and selection\n",
    "best_lr= compare_models()\n",
    "\n",
    "# Analyse best model\n",
    "evaluate_model(best_lr)\n",
    "\n",
    "# predictions on new data\n",
    "predictions = predict_models(best_lr)\n",
    "\n",
    "# save pipeline/model\n",
    "save_model(best_lr,'MLOps_Pipeline')"
   ]
  }
 ],
 "metadata": {
  "kernelspec": {
   "display_name": "Python 3.10.7 64-bit",
   "language": "python",
   "name": "python3"
  },
  "language_info": {
   "codemirror_mode": {
    "name": "ipython",
    "version": 3
   },
   "file_extension": ".py",
   "mimetype": "text/x-python",
   "name": "python",
   "nbconvert_exporter": "python",
   "pygments_lexer": "ipython3",
   "version": "3.10.7"
  },
  "orig_nbformat": 4,
  "vscode": {
   "interpreter": {
    "hash": "aee8b7b246df8f9039afb4144a1f6fd8d2ca17a180786b69acc140d282b71a49"
   }
  }
 },
 "nbformat": 4,
 "nbformat_minor": 2
}
